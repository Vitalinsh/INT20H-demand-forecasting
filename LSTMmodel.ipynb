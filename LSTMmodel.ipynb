{
  "nbformat": 4,
  "nbformat_minor": 0,
  "metadata": {
    "colab": {
      "name": "LSTMmodel.ipynb",
      "version": "0.3.2",
      "provenance": [],
      "collapsed_sections": []
    },
    "kernelspec": {
      "name": "python3",
      "display_name": "Python 3"
    },
    "accelerator": "GPU"
  },
  "cells": [
    {
      "metadata": {
        "id": "lmzXCPk6KPbb",
        "colab_type": "code",
        "colab": {}
      },
      "cell_type": "code",
      "source": [
        "data_path = 'data/labeled_data.csv'"
      ],
      "execution_count": 0,
      "outputs": []
    },
    {
      "metadata": {
        "id": "Iwz8IyEiLRZ2",
        "colab_type": "code",
        "colab": {}
      },
      "cell_type": "code",
      "source": [
        "import pandas as pd\n",
        "import numpy as np\n",
        "\n",
        "np.random.seed(42)"
      ],
      "execution_count": 0,
      "outputs": []
    },
    {
      "metadata": {
        "id": "3bd9dBv8LES3",
        "colab_type": "code",
        "colab": {}
      },
      "cell_type": "code",
      "source": [
        "df = pd.read_csv(data_path)"
      ],
      "execution_count": 0,
      "outputs": []
    },
    {
      "metadata": {
        "id": "EcBdkOaILQSe",
        "colab_type": "code",
        "colab": {}
      },
      "cell_type": "code",
      "source": [
        "df.created_at = df.created_at.apply(pd.to_datetime)\n",
        "df['time'] = df['created_at'].apply(lambda x: pd.Timestamp.round(x,'h'))"
      ],
      "execution_count": 0,
      "outputs": []
    },
    {
      "metadata": {
        "id": "gnOEo-4KNOdc",
        "colab_type": "code",
        "colab": {}
      },
      "cell_type": "code",
      "source": [
        "\n",
        "dataset = pd.DataFrame(df['ride_id'].groupby([df.time, df.pickup_district]).count())\n",
        "dataset = dataset.rename(columns={\"ride_id\": \"demand\"}, index=str)\n",
        "dataset = dataset.reset_index()"
      ],
      "execution_count": 0,
      "outputs": []
    },
    {
      "metadata": {
        "id": "pFr0AfdmLWL7",
        "colab_type": "code",
        "outputId": "e9c0d9ae-8efe-4101-d635-bc9ea3331281",
        "colab": {
          "base_uri": "https://localhost:8080/",
          "height": 153
        }
      },
      "cell_type": "code",
      "source": [
        "dataset_time_path = 'labeled_time_data.csv'\n",
        "dataset.to_csv(dataset_time_path)\n",
        "dataset.info()"
      ],
      "execution_count": 0,
      "outputs": [
        {
          "output_type": "stream",
          "text": [
            "<class 'pandas.core.frame.DataFrame'>\n",
            "RangeIndex: 97064 entries, 0 to 97063\n",
            "Data columns (total 3 columns):\n",
            "time               97064 non-null object\n",
            "pickup_district    97064 non-null object\n",
            "demand             97064 non-null int64\n",
            "dtypes: int64(1), object(2)\n",
            "memory usage: 2.2+ MB\n"
          ],
          "name": "stdout"
        }
      ]
    },
    {
      "metadata": {
        "id": "TdzRipmFOqKu",
        "colab_type": "code",
        "outputId": "76775cc2-1758-437c-c8ef-4f7442bb7667",
        "colab": {
          "base_uri": "https://localhost:8080/",
          "height": 34
        }
      },
      "cell_type": "code",
      "source": [
        "from keras.models import Sequential\n",
        "from keras.layers import Dense\n",
        "from keras.layers import LSTM, Dropout, BatchNormalization\n",
        "from sklearn.preprocessing import MinMaxScaler\n",
        "from sklearn.metrics import mean_squared_error\n",
        "import math"
      ],
      "execution_count": 0,
      "outputs": [
        {
          "output_type": "stream",
          "text": [
            "Using TensorFlow backend.\n"
          ],
          "name": "stderr"
        }
      ]
    },
    {
      "metadata": {
        "id": "842UrZw8PxZ3",
        "colab_type": "code",
        "outputId": "cfcaeb30-fa81-4569-db13-b18c99f680a2",
        "colab": {
          "base_uri": "https://localhost:8080/",
          "height": 204
        }
      },
      "cell_type": "code",
      "source": [
        "dataset.head()"
      ],
      "execution_count": 0,
      "outputs": [
        {
          "output_type": "execute_result",
          "data": {
            "text/html": [
              "<div>\n",
              "<style scoped>\n",
              "    .dataframe tbody tr th:only-of-type {\n",
              "        vertical-align: middle;\n",
              "    }\n",
              "\n",
              "    .dataframe tbody tr th {\n",
              "        vertical-align: top;\n",
              "    }\n",
              "\n",
              "    .dataframe thead th {\n",
              "        text-align: right;\n",
              "    }\n",
              "</style>\n",
              "<table border=\"1\" class=\"dataframe\">\n",
              "  <thead>\n",
              "    <tr style=\"text-align: right;\">\n",
              "      <th></th>\n",
              "      <th>time</th>\n",
              "      <th>pickup_district</th>\n",
              "      <th>demand</th>\n",
              "    </tr>\n",
              "  </thead>\n",
              "  <tbody>\n",
              "    <tr>\n",
              "      <th>0</th>\n",
              "      <td>2018-08-21 00:00:00</td>\n",
              "      <td>871e76126ffffff</td>\n",
              "      <td>2</td>\n",
              "    </tr>\n",
              "    <tr>\n",
              "      <th>1</th>\n",
              "      <td>2018-08-21 00:00:00</td>\n",
              "      <td>871e76135ffffff</td>\n",
              "      <td>2</td>\n",
              "    </tr>\n",
              "    <tr>\n",
              "      <th>2</th>\n",
              "      <td>2018-08-21 00:00:00</td>\n",
              "      <td>871e76880ffffff</td>\n",
              "      <td>5</td>\n",
              "    </tr>\n",
              "    <tr>\n",
              "      <th>3</th>\n",
              "      <td>2018-08-21 00:00:00</td>\n",
              "      <td>871e76881ffffff</td>\n",
              "      <td>4</td>\n",
              "    </tr>\n",
              "    <tr>\n",
              "      <th>4</th>\n",
              "      <td>2018-08-21 00:00:00</td>\n",
              "      <td>871e76882ffffff</td>\n",
              "      <td>3</td>\n",
              "    </tr>\n",
              "  </tbody>\n",
              "</table>\n",
              "</div>"
            ],
            "text/plain": [
              "                  time  pickup_district  demand\n",
              "0  2018-08-21 00:00:00  871e76126ffffff       2\n",
              "1  2018-08-21 00:00:00  871e76135ffffff       2\n",
              "2  2018-08-21 00:00:00  871e76880ffffff       5\n",
              "3  2018-08-21 00:00:00  871e76881ffffff       4\n",
              "4  2018-08-21 00:00:00  871e76882ffffff       3"
            ]
          },
          "metadata": {
            "tags": []
          },
          "execution_count": 11
        }
      ]
    },
    {
      "metadata": {
        "id": "ZwRsPTopY1aW",
        "colab_type": "code",
        "colab": {}
      },
      "cell_type": "code",
      "source": [
        "district = '871e7688affffff'\n",
        "dataset_district = dataset[dataset['pickup_district']==district]\n",
        "dataset_district = dataset_district.reset_index()"
      ],
      "execution_count": 0,
      "outputs": []
    },
    {
      "metadata": {
        "id": "4C09kwKBQV1j",
        "colab_type": "code",
        "outputId": "1edbe21c-6ca9-4590-d7bc-d537d0b662cf",
        "colab": {
          "base_uri": "https://localhost:8080/",
          "height": 34
        }
      },
      "cell_type": "code",
      "source": [
        "train_size = int(len(dataset_district) * 0.85)\n",
        "test_size = len(dataset_district) - train_size\n",
        "dataset_district.loc[:,'demand'] = dataset_district.loc[:,'demand'].apply(np.log)\n",
        "min_ = dataset_district.loc[:,'demand'].min()\n",
        "max_ = dataset_district.loc[:,'demand'].max()\n",
        "train, test = dataset_district.loc[0:train_size,'demand'], dataset_district.loc[train_size:len(dataset_district),'demand']\n",
        "print(len(train), len(test))"
      ],
      "execution_count": 0,
      "outputs": [
        {
          "output_type": "stream",
          "text": [
            "3461 611\n"
          ],
          "name": "stdout"
        }
      ]
    },
    {
      "metadata": {
        "id": "Q2lnuL81SqNl",
        "colab_type": "code",
        "colab": {}
      },
      "cell_type": "code",
      "source": [
        "def create_dataset(data, look_back=1):\n",
        "  X = []\n",
        "  y = []\n",
        "  for i in range(look_back, len(data)):\n",
        "      X.append(list(data.values[i-look_back:i]))\n",
        "      y.append(data.values[i])\n",
        "  \n",
        "  return X, y\n",
        "      \n",
        "look_back = 24\n",
        "X, y = create_dataset(train, look_back)\n",
        "X = np.array(X)\n",
        "y = np.array(y)\n",
        "X = X.reshape(X.shape[0], X.shape[1], 1)"
      ],
      "execution_count": 0,
      "outputs": []
    },
    {
      "metadata": {
        "id": "oN2XXQ9TRuY8",
        "colab_type": "code",
        "colab": {}
      },
      "cell_type": "code",
      "source": [
        "def create_model():\n",
        "    model = Sequential()  \n",
        "\n",
        "    model.add(LSTM(units=50, return_sequences=True, input_shape=(look_back, 1)))  \n",
        "    model.add(Dropout(0.3))\n",
        "\n",
        "    model.add(LSTM(units=50))  \n",
        "    model.add(Dropout(0.3))  \n",
        "\n",
        "    model.add(Dense(units = 1))  \n",
        "\n",
        "    model.compile(optimizer = 'nadam', loss = 'mean_absolute_error')  \n",
        "    return model"
      ],
      "execution_count": 0,
      "outputs": []
    },
    {
      "metadata": {
        "id": "ourrL4FuVD-a",
        "colab_type": "code",
        "outputId": "10ef0c4c-da67-42b5-d490-017c08299566",
        "colab": {
          "base_uri": "https://localhost:8080/",
          "height": 731
        }
      },
      "cell_type": "code",
      "source": [
        "model = create_model()\n",
        "model.fit(X, y, epochs=20, validation_split=0.2)"
      ],
      "execution_count": 0,
      "outputs": [
        {
          "output_type": "stream",
          "text": [
            "Train on 2749 samples, validate on 688 samples\n",
            "Epoch 1/20\n",
            "2749/2749 [==============================] - 11s 4ms/step - loss: 0.6669 - val_loss: 0.6621\n",
            "Epoch 2/20\n",
            "2749/2749 [==============================] - 10s 4ms/step - loss: 0.6096 - val_loss: 0.7398\n",
            "Epoch 3/20\n",
            "2749/2749 [==============================] - 10s 4ms/step - loss: 0.5760 - val_loss: 0.5702\n",
            "Epoch 4/20\n",
            "2749/2749 [==============================] - 10s 4ms/step - loss: 0.5538 - val_loss: 0.5532\n",
            "Epoch 5/20\n",
            "2749/2749 [==============================] - 10s 4ms/step - loss: 0.5532 - val_loss: 0.5278\n",
            "Epoch 6/20\n",
            "2749/2749 [==============================] - 10s 4ms/step - loss: 0.5446 - val_loss: 0.5444\n",
            "Epoch 7/20\n",
            "2749/2749 [==============================] - 10s 4ms/step - loss: 0.5384 - val_loss: 0.5154\n",
            "Epoch 8/20\n",
            "2749/2749 [==============================] - 10s 4ms/step - loss: 0.5335 - val_loss: 0.5875\n",
            "Epoch 9/20\n",
            "2749/2749 [==============================] - 10s 3ms/step - loss: 0.5256 - val_loss: 0.5300\n",
            "Epoch 10/20\n",
            "2749/2749 [==============================] - 10s 4ms/step - loss: 0.5225 - val_loss: 0.5262\n",
            "Epoch 11/20\n",
            "2749/2749 [==============================] - 10s 4ms/step - loss: 0.5183 - val_loss: 0.5473\n",
            "Epoch 12/20\n",
            "2749/2749 [==============================] - 10s 4ms/step - loss: 0.5104 - val_loss: 0.5216\n",
            "Epoch 13/20\n",
            "2749/2749 [==============================] - 10s 4ms/step - loss: 0.5154 - val_loss: 0.5190\n",
            "Epoch 14/20\n",
            "2749/2749 [==============================] - 10s 4ms/step - loss: 0.5141 - val_loss: 0.5534\n",
            "Epoch 15/20\n",
            "2749/2749 [==============================] - 10s 4ms/step - loss: 0.5131 - val_loss: 0.5152\n",
            "Epoch 16/20\n",
            "2749/2749 [==============================] - 10s 4ms/step - loss: 0.5088 - val_loss: 0.6253\n",
            "Epoch 17/20\n",
            "2749/2749 [==============================] - 10s 4ms/step - loss: 0.5033 - val_loss: 0.4901\n",
            "Epoch 18/20\n",
            "2749/2749 [==============================] - 10s 4ms/step - loss: 0.5033 - val_loss: 0.5124\n",
            "Epoch 19/20\n",
            "2749/2749 [==============================] - 10s 4ms/step - loss: 0.5077 - val_loss: 0.4782\n",
            "Epoch 20/20\n",
            "2749/2749 [==============================] - 10s 4ms/step - loss: 0.4959 - val_loss: 0.4975\n"
          ],
          "name": "stdout"
        },
        {
          "output_type": "execute_result",
          "data": {
            "text/plain": [
              "<keras.callbacks.History at 0x7f1a78b39cc0>"
            ]
          },
          "metadata": {
            "tags": []
          },
          "execution_count": 36
        }
      ]
    },
    {
      "metadata": {
        "id": "T1zz-TEzgqIN",
        "colab_type": "code",
        "colab": {}
      },
      "cell_type": "code",
      "source": [
        "X_test, y_test = create_dataset(test, look_back)\n",
        "X_test = np.array(X)\n",
        "y_test = np.array(y)\n",
        "X_test = X_test.reshape(X_test.shape[0], X_test.shape[1], 1)\n",
        "\n",
        "y_pred = model.predict(X_test)"
      ],
      "execution_count": 0,
      "outputs": []
    },
    {
      "metadata": {
        "id": "c_fXf5rMhucu",
        "colab_type": "code",
        "outputId": "1b72a3e2-e914-4200-ea8a-6ccc508d9c8c",
        "colab": {
          "base_uri": "https://localhost:8080/",
          "height": 34
        }
      },
      "cell_type": "code",
      "source": [
        "from sklearn.metrics import mean_absolute_error\n",
        "\n",
        "mean_absolute_error(math.e ** y_pred, math.e ** y_test)"
      ],
      "execution_count": 0,
      "outputs": [
        {
          "output_type": "execute_result",
          "data": {
            "text/plain": [
              "2.5741572818473077"
            ]
          },
          "metadata": {
            "tags": []
          },
          "execution_count": 56
        }
      ]
    },
    {
      "metadata": {
        "id": "S0fdydFyjppc",
        "colab_type": "code",
        "outputId": "6c8ba209-f109-47b7-8d4f-11f59a26a801",
        "colab": {
          "base_uri": "https://localhost:8080/",
          "height": 282
        }
      },
      "cell_type": "code",
      "source": [
        "import matplotlib.pyplot as plt\n",
        "%matplotlib inline\n",
        "\n",
        "    \n",
        "plt.plot(math.e**y_pred[-300:].squeeze())\n",
        "plt.plot(math.e**y_test[-300:].squeeze())"
      ],
      "execution_count": 0,
      "outputs": [
        {
          "output_type": "execute_result",
          "data": {
            "text/plain": [
              "[<matplotlib.lines.Line2D at 0x7f1a2a98cb00>]"
            ]
          },
          "metadata": {
            "tags": []
          },
          "execution_count": 52
        },
        {
          "output_type": "display_data",
          "data": {
            "image/png": "[encoded data removed]",
            "text/plain": [
              "<Figure size 432x288 with 1 Axes>"
            ]
          },
          "metadata": {
            "tags": []
          }
        }
      ]
    },
    {
      "metadata": {
        "id": "1EAD_sEn6MOp",
        "colab_type": "code",
        "colab": {}
      },
      "cell_type": "code",
      "source": [
        "def predict_next_hours(model, data, hours):\n",
        "    data_length = len(data)\n",
        "    predicted = []\n",
        "    for hour in range(hours):\n",
        "      last_predicted = model.predict(data[-data_length:].reshape(1, -1, 1))\n",
        "      predicted.append(last_predicted[0])\n",
        "      data = np.append(data, last_predicted)\n",
        "    return np.array(predicted)"
      ],
      "execution_count": 0,
      "outputs": []
    },
    {
      "metadata": {
        "id": "0IjOf7RzM4gt",
        "colab_type": "code",
        "colab": {}
      },
      "cell_type": "code",
      "source": [
        "predicted = predict_next_hours(model, X[-168], 168)"
      ],
      "execution_count": 0,
      "outputs": []
    },
    {
      "metadata": {
        "colab_type": "code",
        "outputId": "93490aee-5958-4ff5-b0fa-85a65df8b4d9",
        "id": "g2MghHeKL_Y2",
        "colab": {
          "base_uri": "https://localhost:8080/",
          "height": 285
        }
      },
      "cell_type": "code",
      "source": [
        "plt.plot(math.e ** predicted)\n",
        "plt.plot(math.e ** y[-168:])"
      ],
      "execution_count": 0,
      "outputs": [
        {
          "output_type": "execute_result",
          "data": {
            "text/plain": [
              "[<matplotlib.lines.Line2D at 0x7f1a2a8fe438>]"
            ]
          },
          "metadata": {
            "tags": []
          },
          "execution_count": 55
        },
        {
          "output_type": "display_data",
          "data": {
            "image/png": "[encoded data removed]",
            "text/plain": [
              "<Figure size 432x288 with 1 Axes>"
            ]
          },
          "metadata": {
            "tags": []
          }
        }
      ]
    }
  ]
}